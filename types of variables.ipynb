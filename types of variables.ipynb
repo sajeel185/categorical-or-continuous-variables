{
 "cells": [
  {
   "cell_type": "code",
   "execution_count": 2,
   "metadata": {},
   "outputs": [],
   "source": [
    "import pandas as pd\n",
    "import numpy as np"
   ]
  },
  {
   "cell_type": "code",
   "execution_count": 4,
   "metadata": {},
   "outputs": [
    {
     "name": "stdout",
     "output_type": "stream",
     "text": [
      "   cntry  idno  year  tvtot  ppltrst  pplfair  pplhlp  happy  sclmeet  sclact  \\\n",
      "0     CH   5.0     6    3.0      3.0     10.0     5.0    8.0      5.0     4.0   \n",
      "1     CH  25.0     6    6.0      5.0      7.0     5.0    9.0      3.0     2.0   \n",
      "2     CH  26.0     6    1.0      8.0      8.0     8.0    7.0      6.0     3.0   \n",
      "3     CH  28.0     6    4.0      6.0      6.0     7.0   10.0      6.0     2.0   \n",
      "4     CH  29.0     6    5.0      6.0      7.0     5.0    8.0      7.0     2.0   \n",
      "5     CH  36.0     6    4.0      6.0      7.0     3.0    8.0      7.0     4.0   \n",
      "6     CH  40.0     6    3.0      0.0      5.0     2.0    0.0      2.0     2.0   \n",
      "7     CH  41.0     6    2.0      4.0      5.0     3.0   10.0      5.0     2.0   \n",
      "8     CH  51.0     6    2.0      8.0      8.0     8.0    9.0      6.0     4.0   \n",
      "9     CH  53.0     6    4.0      4.0      4.0     8.0    7.0      4.0     2.0   \n",
      "10    CH  55.0     6    1.0      6.0      7.0     7.0    9.0      5.0     2.0   \n",
      "11    CH  56.0     6    4.0      5.0      7.0     7.0    7.0      5.0     3.0   \n",
      "12    CH  57.0     6    4.0      7.0      7.0     4.0    9.0      6.0     2.0   \n",
      "13    CH  58.0     6    2.0      1.0      9.0     7.0    8.0      4.0     3.0   \n",
      "14    CH  68.0     6    4.0      4.0      5.0     3.0    8.0      1.0     2.0   \n",
      "15    CH  73.0     6    5.0      4.0      5.0     5.0    9.0      3.0     3.0   \n",
      "16    CH  81.0     6    4.0      5.0      7.0     7.0    8.0      3.0     3.0   \n",
      "17    CH  82.0     6    2.0      7.0      7.0     7.0    6.0      6.0     3.0   \n",
      "18    CH  84.0     6    0.0      9.0      7.0     8.0    9.0      5.0     4.0   \n",
      "19    CH  86.0     6    2.0      6.0      6.0     6.0    8.0      4.0     3.0   \n",
      "\n",
      "    gndr  agea  partner  \n",
      "0    2.0  60.0      1.0  \n",
      "1    2.0  59.0      1.0  \n",
      "2    1.0  24.0      2.0  \n",
      "3    2.0  64.0      1.0  \n",
      "4    2.0  55.0      1.0  \n",
      "5    2.0   NaN      2.0  \n",
      "6    1.0  76.0      1.0  \n",
      "7    2.0  30.0      1.0  \n",
      "8    2.0  84.0      2.0  \n",
      "9    2.0  62.0      1.0  \n",
      "10   2.0  33.0      1.0  \n",
      "11   1.0  40.0      1.0  \n",
      "12   1.0  69.0      1.0  \n",
      "13   1.0  59.0      2.0  \n",
      "14   2.0  32.0      1.0  \n",
      "15   2.0  70.0      1.0  \n",
      "16   1.0  61.0      1.0  \n",
      "17   1.0  30.0      1.0  \n",
      "18   1.0  21.0      2.0  \n",
      "19   2.0  36.0      1.0  \n"
     ]
    }
   ],
   "source": [
    "df = pd.read_csv(\"ESSdata_Thinkful.csv\")\n",
    "\n",
    "print(df.head(20))"
   ]
  },
  {
   "cell_type": "markdown",
   "metadata": {},
   "source": [
    "cntry - Categorical\n",
    "\n",
    "idno - Continuous, ordinal\n",
    "\n",
    "year - Continuous, ordinal\n",
    "\n",
    "tvtot - Continuous, ratio\n",
    "\n",
    "ppltrst - Continuous, interval\n",
    "\n",
    "pplfair - Continuous, interval\n",
    "\n",
    "pplhlp - Continuous, interval\n",
    "\n",
    "happy - Continuous, interval\n",
    "\n",
    "sclmeet - \n",
    "\n",
    "sclact - \n",
    "\n",
    "gndr - Continuous, ordinal\n",
    "\n",
    "agea - continuous, ratio\n",
    "\n",
    "partner - Continuous, ordinal"
   ]
  }
 ],
 "metadata": {
  "kernelspec": {
   "display_name": "Python 3",
   "language": "python",
   "name": "python3"
  },
  "language_info": {
   "codemirror_mode": {
    "name": "ipython",
    "version": 3
   },
   "file_extension": ".py",
   "mimetype": "text/x-python",
   "name": "python",
   "nbconvert_exporter": "python",
   "pygments_lexer": "ipython3",
   "version": "3.7.0"
  }
 },
 "nbformat": 4,
 "nbformat_minor": 2
}
